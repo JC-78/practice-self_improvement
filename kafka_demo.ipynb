{
 "cells": [
  {
   "cell_type": "markdown",
   "metadata": {
    "id": "DLrDFjKHiMMA"
   },
   "source": [
    "# Kafka Demo\n",
    "\n",
    "### Connect to Kafka Broker Server\n",
    "```\n",
    "ssh -o ServerAliveInterval=60 -L 9092:localhost:9092 tunnel@128.2.24.106 -NTf\n",
    "\n",
    "For hw2,\n",
    "ssh -o ServerAliveInterval=60 -L 9092:localhost:9092 tunnel@128.2.204.215 -NTf\n",
    "\n",
    "```\n",
    "pass: seaitunnel\n",
    "\n",
    "Will get the following if I already did above\n",
    "\n",
    "\"\"\"\n",
    "Address already in use\n",
    "channel_setup_fwd_listener_tcpip: cannot listen to port: 9092\n",
    "Could not request local forwarding.\n",
    "\"\"\"\n",
    "\n",
    "Need to use conda for virtual env, not just normal python \n",
    "To kill connection at port:\n",
    "```\n",
    "lsof -ti:9092 | xargs kill -9\n",
    "```\n",
    "\n",
    "### Setup\n",
    "```\n",
    "python -m pip install kafka-python\n",
    "```"
   ]
  },
  {
   "cell_type": "code",
   "execution_count": 4,
   "metadata": {},
   "outputs": [
    {
     "name": "stdout",
     "output_type": "stream",
     "text": [
      "3.9.5\n"
     ]
    }
   ],
   "source": [
    "from platform import python_version\n",
    "print(python_version())"
   ]
  },
  {
   "cell_type": "code",
   "execution_count": 7,
   "metadata": {},
   "outputs": [
    {
     "name": "stdout",
     "output_type": "stream",
     "text": [
      "Package      Version\r\n",
      "------------ -------\r\n",
      "kafka-python 2.0.2\r\n",
      "pip          21.1.1\r\n",
      "setuptools   56.0.0\r\n",
      "\u001b[33mWARNING: You are using pip version 21.1.1; however, version 22.3.1 is available.\r\n",
      "You should consider upgrading via the '/Users/joonghochoi/Desktop/kafka/demo/venv/bin/python -m pip install --upgrade pip' command.\u001b[0m\r\n"
     ]
    }
   ],
   "source": [
    "!pip3 list"
   ]
  },
  {
   "cell_type": "code",
   "execution_count": 1,
   "metadata": {
    "id": "PUNMUptniMMC"
   },
   "outputs": [],
   "source": [
    "from os import path\n",
    "import sys, os\n",
    "from datetime import datetime\n",
    "from json import dumps, loads\n",
    "from time import sleep\n",
    "from random import randint\n",
    "import numpy as np\n",
    "# ssh -o ServerAliveInterval=60 -L 9092:localhost:9092 tunnel@128.2.24.106 -NTf\n",
    "from kafka import KafkaConsumer, KafkaProducer\n",
    "\n",
    "# Update this for your demo otherwise you'll see my data :)\n",
    "topic = 'movielog14'"
   ]
  },
  {
   "cell_type": "markdown",
   "metadata": {},
   "source": [
    "### Producer Mode -> Writes Data to Broker"
   ]
  },
  {
   "cell_type": "code",
   "execution_count": 4,
   "metadata": {},
   "outputs": [
    {
     "name": "stdout",
     "output_type": "stream",
     "text": [
      "Writing to Kafka Broker\n",
      "Writing: 2023-02-07 16:01:58,New York,22ºC\n",
      "Writing: 2023-02-07 16:01:59,London,28ºC\n",
      "Writing: 2023-02-07 16:02:00,Bangalore,24ºC\n",
      "Writing: 2023-02-07 16:02:01,London,27ºC\n",
      "Writing: 2023-02-07 16:02:02,Munich,18ºC\n",
      "Writing: 2023-02-07 16:02:03,Tokyo,31ºC\n",
      "Writing: 2023-02-07 16:02:04,Bangalore,27ºC\n",
      "Writing: 2023-02-07 16:02:05,Shanghai,19ºC\n",
      "Writing: 2023-02-07 16:02:06,New York,31ºC\n",
      "Writing: 2023-02-07 16:02:07,Munich,19ºC\n"
     ]
    }
   ],
   "source": [
    "# Create a producer to write data to kafka\n",
    "# Ref: https://kafka-python.readthedocs.io/en/master/apidoc/KafkaProducer.html\n",
    "producer = KafkaProducer(bootstrap_servers=['localhost:9092'],\n",
    "                        value_serializer=lambda x: dumps(x).encode('utf-8'),\n",
    "                        )\n",
    "cities = ['Pittsburgh','New York','London','Bangalore','Shanghai','Tokyo','Munich']\n",
    "# Write data via the producer\n",
    "print(\"Writing to Kafka Broker\")\n",
    "for i in range(10):\n",
    "    data = f'{datetime.now().strftime(\"%Y-%m-%d %H:%M:%S\")},{cities[randint(0,len(cities)-1)]},{randint(18, 32)}ºC'\n",
    "    print(f\"Writing: {data}\")\n",
    "    producer.send(topic=topic, value=data)\n",
    "    sleep(1)"
   ]
  },
  {
   "cell_type": "markdown",
   "metadata": {},
   "source": [
    "### Consumer Mode -> Reads Data from Broker"
   ]
  },
  {
   "cell_type": "code",
   "execution_count": null,
   "metadata": {},
   "outputs": [
    {
     "name": "stdout",
     "output_type": "stream",
     "text": [
      "Reading Kafka Broker\n"
     ]
    }
   ],
   "source": [
    "# Create a consumer to read data from kafka\n",
    "# Ref: https://kafka-python.readthedocs.io/en/master/apidoc/KafkaConsumer.html\n",
    "consumer = KafkaConsumer(\n",
    "    topic,\n",
    "    bootstrap_servers=['localhost:9092'],\n",
    "    # Read from the start of the topic; Default is latest\n",
    "    auto_offset_reset='earliest', #get everything from the start\n",
    "    # auto_offset_reset='latest',\n",
    "    # group_id='team13',\n",
    "    # Commit that an offset has been read\n",
    "    enable_auto_commit=True,\n",
    "    # How often to tell Kafka, an offset has been read\n",
    "    auto_commit_interval_ms=1000\n",
    ")\n",
    "\n",
    "print('Reading Kafka Broker')\n",
    "for message in consumer:\n",
    "\n",
    "    message = message.value.decode()\n",
    "    # Default message.value type is bytes!\n",
    "    #print(loads(message))\n",
    "    os.system(f\"echo {message} >> kafka_log1.csv\")"
   ]
  },
  {
   "cell_type": "markdown",
   "metadata": {},
   "source": [
    "# OR Use kcat!\n",
    "It's a CLI (Command Line Interface). Previously known as kafkacat\n",
    "\n",
    "Install with your package installer such as:\n",
    "```\n",
    "brew install kcat\n",
    "apt-get install kcat\n",
    "& more\n",
    "```\n",
    "\n",
    "Use: \n",
    "```\n",
    "kcat -b <broker> -t <topic> -p <partition>\n",
    "```\n",
    "\n",
    "Ref: https://docs.confluent.io/platform/current/app-development/kafkacat-usage.html"
   ]
  },
  {
   "cell_type": "code",
   "execution_count": 7,
   "metadata": {},
   "outputs": [
    {
     "name": "stdout",
     "output_type": "stream",
     "text": [
      "% Auto-selecting Consumer mode (use -P or -C to override)\n",
      "% ERROR: Topic moviglog14 error: Broker: Unknown topic or partition\n"
     ]
    }
   ],
   "source": [
    "! kcat -b localhost:9092 -t \"movielog14\" -p earliest"
   ]
  },
  {
   "cell_type": "markdown",
   "metadata": {},
   "source": [
    "### See more options using\n",
    "```\n",
    "kcat\n",
    "```"
   ]
  },
  {
   "cell_type": "code",
   "execution_count": null,
   "metadata": {},
   "outputs": [],
   "source": [
    "!kcat -b localhost:9092 -t \"movielog14\" -o end | grep \"request\""
   ]
  }
 ],
 "metadata": {
  "colab": {
   "background_execution": "on",
   "collapsed_sections": [
    "DLrDFjKHiMMA",
    "xSjzWcB4iMME"
   ],
   "machine_shape": "hm",
   "provenance": []
  },
  "kernelspec": {
   "display_name": "sweAI",
   "language": "python",
   "name": "sweai"
  },
  "language_info": {
   "codemirror_mode": {
    "name": "ipython",
    "version": 3
   },
   "file_extension": ".py",
   "mimetype": "text/x-python",
   "name": "python",
   "nbconvert_exporter": "python",
   "pygments_lexer": "ipython3",
   "version": "3.9.6"
  },
  "vscode": {
   "interpreter": {
    "hash": "4dd1b8cc75138053aa63d4ac25d986f09bf1a26545663340b9e950210ee010df"
   }
  }
 },
 "nbformat": 4,
 "nbformat_minor": 1
}
