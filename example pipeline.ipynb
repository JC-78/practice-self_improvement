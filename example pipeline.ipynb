{
 "cells": [
  {
   "cell_type": "code",
   "execution_count": 65,
   "id": "6610e29c",
   "metadata": {},
   "outputs": [
    {
     "data": {
      "text/html": [
       "<div>\n",
       "<style scoped>\n",
       "    .dataframe tbody tr th:only-of-type {\n",
       "        vertical-align: middle;\n",
       "    }\n",
       "\n",
       "    .dataframe tbody tr th {\n",
       "        vertical-align: top;\n",
       "    }\n",
       "\n",
       "    .dataframe thead th {\n",
       "        text-align: right;\n",
       "    }\n",
       "</style>\n",
       "<table border=\"1\" class=\"dataframe\">\n",
       "  <thead>\n",
       "    <tr style=\"text-align: right;\">\n",
       "      <th></th>\n",
       "      <th>label</th>\n",
       "      <th>text</th>\n",
       "    </tr>\n",
       "  </thead>\n",
       "  <tbody>\n",
       "    <tr>\n",
       "      <th>0</th>\n",
       "      <td>0</td>\n",
       "      <td>Go until jurong point, crazy.. Available only ...</td>\n",
       "    </tr>\n",
       "    <tr>\n",
       "      <th>1</th>\n",
       "      <td>0</td>\n",
       "      <td>Ok lar... Joking wif u oni...</td>\n",
       "    </tr>\n",
       "    <tr>\n",
       "      <th>2</th>\n",
       "      <td>1</td>\n",
       "      <td>Free entry in 2 a wkly comp to win FA Cup fina...</td>\n",
       "    </tr>\n",
       "    <tr>\n",
       "      <th>3</th>\n",
       "      <td>0</td>\n",
       "      <td>U dun say so early hor... U c already then say...</td>\n",
       "    </tr>\n",
       "    <tr>\n",
       "      <th>4</th>\n",
       "      <td>0</td>\n",
       "      <td>Nah I don't think he goes to usf, he lives aro...</td>\n",
       "    </tr>\n",
       "  </tbody>\n",
       "</table>\n",
       "</div>"
      ],
      "text/plain": [
       "   label                                               text\n",
       "0      0  Go until jurong point, crazy.. Available only ...\n",
       "1      0                      Ok lar... Joking wif u oni...\n",
       "2      1  Free entry in 2 a wkly comp to win FA Cup fina...\n",
       "3      0  U dun say so early hor... U c already then say...\n",
       "4      0  Nah I don't think he goes to usf, he lives aro..."
      ]
     },
     "execution_count": 65,
     "metadata": {},
     "output_type": "execute_result"
    }
   ],
   "source": [
    "import pandas as pd\n",
    "from sklearn.model_selection import train_test_split\n",
    "from sklearn.model_selection import train_test_split\n",
    "from sklearn.feature_extraction.text import TfidfVectorizer, CountVectorizer\n",
    "from sklearn.naive_bayes import MultinomialNB\n",
    "from sklearn.naive_bayes import GaussianNB\n",
    "from sklearn.naive_bayes import BernoulliNB\n",
    "from sklearn.model_selection import GridSearchCV\n",
    "from sklearn.metrics import f1_score, confusion_matrix\n",
    "import numpy as np\n",
    "\n",
    "# Load the data with a different encoding\n",
    "data = pd.read_csv(\"/Users/joonghochoi/Desktop/BNY Mellon/data/spam.csv\", encoding='latin1')\n",
    "data.drop(['Unnamed: 2', 'Unnamed: 3', 'Unnamed: 4'], axis=1, inplace=True)\n",
    "data.rename(columns={'v1': 'label', 'v2': 'text'}, inplace=True)\n",
    "data['label'] = data['label'].apply(lambda label: 0 if label == 'ham' else 1)\n",
    "data.head()\n"
   ]
  },
  {
   "cell_type": "code",
   "execution_count": 66,
   "id": "ac7c36ef",
   "metadata": {},
   "outputs": [],
   "source": [
    "\n",
    "\n",
    "# Split the data into training and testing sets (70/30 split)\n",
    "train_df, test_df = train_test_split(data, test_size=0.3, random_state=42)\n",
    "\n",
    "# Split the training data further into training and validation sets (40/30 split)\n",
    "train_df, validation_df = train_test_split(train_df, test_size=0.3, random_state=42)\n",
    "\n",
    "# Save the dataframes as CSV files\n",
    "train_df.to_csv(\"/Users/joonghochoi/Desktop/BNY Mellon/data/train.csv\", index=False)\n",
    "validation_df.to_csv(\"/Users/joonghochoi/Desktop/BNY Mellon/data/validation.csv\", index=False)\n",
    "test_df.to_csv(\"/Users/joonghochoi/Desktop/BNY Mellon/data/test.csv\", index=False)\n"
   ]
  },
  {
   "cell_type": "code",
   "execution_count": 67,
   "id": "ad465720",
   "metadata": {},
   "outputs": [
    {
     "data": {
      "text/html": [
       "<div>\n",
       "<style scoped>\n",
       "    .dataframe tbody tr th:only-of-type {\n",
       "        vertical-align: middle;\n",
       "    }\n",
       "\n",
       "    .dataframe tbody tr th {\n",
       "        vertical-align: top;\n",
       "    }\n",
       "\n",
       "    .dataframe thead th {\n",
       "        text-align: right;\n",
       "    }\n",
       "</style>\n",
       "<table border=\"1\" class=\"dataframe\">\n",
       "  <thead>\n",
       "    <tr style=\"text-align: right;\">\n",
       "      <th></th>\n",
       "      <th>label</th>\n",
       "      <th>text</th>\n",
       "    </tr>\n",
       "  </thead>\n",
       "  <tbody>\n",
       "    <tr>\n",
       "      <th>1171</th>\n",
       "      <td>1</td>\n",
       "      <td>Got what it takes 2 take part in the WRC Rally...</td>\n",
       "    </tr>\n",
       "    <tr>\n",
       "      <th>4438</th>\n",
       "      <td>0</td>\n",
       "      <td>i want to grasp your pretty booty :)</td>\n",
       "    </tr>\n",
       "    <tr>\n",
       "      <th>4832</th>\n",
       "      <td>1</td>\n",
       "      <td>New Mobiles from 2004, MUST GO! Txt: NOKIA to ...</td>\n",
       "    </tr>\n",
       "    <tr>\n",
       "      <th>4972</th>\n",
       "      <td>0</td>\n",
       "      <td>Oops I was in the shower when u called. Hey a ...</td>\n",
       "    </tr>\n",
       "    <tr>\n",
       "      <th>1633</th>\n",
       "      <td>0</td>\n",
       "      <td>Yesterday its with me only . Now am going home.</td>\n",
       "    </tr>\n",
       "  </tbody>\n",
       "</table>\n",
       "</div>"
      ],
      "text/plain": [
       "      label                                               text\n",
       "1171      1  Got what it takes 2 take part in the WRC Rally...\n",
       "4438      0               i want to grasp your pretty booty :)\n",
       "4832      1  New Mobiles from 2004, MUST GO! Txt: NOKIA to ...\n",
       "4972      0  Oops I was in the shower when u called. Hey a ...\n",
       "1633      0    Yesterday its with me only . Now am going home."
      ]
     },
     "execution_count": 67,
     "metadata": {},
     "output_type": "execute_result"
    }
   ],
   "source": [
    "train_df.head()"
   ]
  },
  {
   "cell_type": "code",
   "execution_count": 68,
   "id": "8165acf0",
   "metadata": {},
   "outputs": [
    {
     "data": {
      "text/html": [
       "<div>\n",
       "<style scoped>\n",
       "    .dataframe tbody tr th:only-of-type {\n",
       "        vertical-align: middle;\n",
       "    }\n",
       "\n",
       "    .dataframe tbody tr th {\n",
       "        vertical-align: top;\n",
       "    }\n",
       "\n",
       "    .dataframe thead th {\n",
       "        text-align: right;\n",
       "    }\n",
       "</style>\n",
       "<table border=\"1\" class=\"dataframe\">\n",
       "  <thead>\n",
       "    <tr style=\"text-align: right;\">\n",
       "      <th></th>\n",
       "      <th>label</th>\n",
       "      <th>text</th>\n",
       "      <th>text_length</th>\n",
       "      <th>no_of_chars</th>\n",
       "      <th>no_of_words</th>\n",
       "      <th>no_of_sents</th>\n",
       "    </tr>\n",
       "  </thead>\n",
       "  <tbody>\n",
       "    <tr>\n",
       "      <th>1171</th>\n",
       "      <td>1</td>\n",
       "      <td>Got what it takes 2 take part in the WRC Rally...</td>\n",
       "      <td>159</td>\n",
       "      <td>159</td>\n",
       "      <td>38</td>\n",
       "      <td>3</td>\n",
       "    </tr>\n",
       "    <tr>\n",
       "      <th>4438</th>\n",
       "      <td>0</td>\n",
       "      <td>i want to grasp your pretty booty :)</td>\n",
       "      <td>36</td>\n",
       "      <td>36</td>\n",
       "      <td>9</td>\n",
       "      <td>1</td>\n",
       "    </tr>\n",
       "    <tr>\n",
       "      <th>4832</th>\n",
       "      <td>1</td>\n",
       "      <td>New Mobiles from 2004, MUST GO! Txt: NOKIA to ...</td>\n",
       "      <td>153</td>\n",
       "      <td>153</td>\n",
       "      <td>29</td>\n",
       "      <td>4</td>\n",
       "    </tr>\n",
       "    <tr>\n",
       "      <th>4972</th>\n",
       "      <td>0</td>\n",
       "      <td>Oops I was in the shower when u called. Hey a ...</td>\n",
       "      <td>142</td>\n",
       "      <td>142</td>\n",
       "      <td>31</td>\n",
       "      <td>4</td>\n",
       "    </tr>\n",
       "    <tr>\n",
       "      <th>1633</th>\n",
       "      <td>0</td>\n",
       "      <td>Yesterday its with me only . Now am going home.</td>\n",
       "      <td>47</td>\n",
       "      <td>47</td>\n",
       "      <td>11</td>\n",
       "      <td>2</td>\n",
       "    </tr>\n",
       "  </tbody>\n",
       "</table>\n",
       "</div>"
      ],
      "text/plain": [
       "      label                                               text  text_length  \\\n",
       "1171      1  Got what it takes 2 take part in the WRC Rally...          159   \n",
       "4438      0               i want to grasp your pretty booty :)           36   \n",
       "4832      1  New Mobiles from 2004, MUST GO! Txt: NOKIA to ...          153   \n",
       "4972      0  Oops I was in the shower when u called. Hey a ...          142   \n",
       "1633      0    Yesterday its with me only . Now am going home.           47   \n",
       "\n",
       "      no_of_chars  no_of_words  no_of_sents  \n",
       "1171          159           38            3  \n",
       "4438           36            9            1  \n",
       "4832          153           29            4  \n",
       "4972          142           31            4  \n",
       "1633           47           11            2  "
      ]
     },
     "execution_count": 68,
     "metadata": {},
     "output_type": "execute_result"
    }
   ],
   "source": [
    "train_df['text_length'] = train_df['text'].apply(lambda message: len(message))\n",
    "train_df['no_of_chars'] = train_df['text'].apply(len)\n",
    "train_df['no_of_words'] = train_df['text'].apply(lambda x: len(nltk.word_tokenize(x)))\n",
    "train_df['no_of_sents'] = train_df['text'].apply(lambda x: len(nltk.sent_tokenize(x)))\n",
    "\n",
    "# validation_df['text_length'] = validation_df['text'].apply(lambda message: len(message))\n",
    "\n",
    "train_df.head()"
   ]
  },
  {
   "cell_type": "code",
   "execution_count": 70,
   "id": "61a14267",
   "metadata": {},
   "outputs": [
    {
     "data": {
      "text/html": [
       "<div>\n",
       "<style scoped>\n",
       "    .dataframe tbody tr th:only-of-type {\n",
       "        vertical-align: middle;\n",
       "    }\n",
       "\n",
       "    .dataframe tbody tr th {\n",
       "        vertical-align: top;\n",
       "    }\n",
       "\n",
       "    .dataframe thead th {\n",
       "        text-align: right;\n",
       "    }\n",
       "</style>\n",
       "<table border=\"1\" class=\"dataframe\">\n",
       "  <thead>\n",
       "    <tr style=\"text-align: right;\">\n",
       "      <th></th>\n",
       "      <th>label</th>\n",
       "      <th>text</th>\n",
       "      <th>text_length</th>\n",
       "      <th>no_of_chars</th>\n",
       "      <th>no_of_words</th>\n",
       "      <th>no_of_sents</th>\n",
       "    </tr>\n",
       "  </thead>\n",
       "  <tbody>\n",
       "    <tr>\n",
       "      <th>3830</th>\n",
       "      <td>0</td>\n",
       "      <td>Let's pool our money together and buy a bunch ...</td>\n",
       "      <td>116</td>\n",
       "      <td>116</td>\n",
       "      <td>40</td>\n",
       "      <td>3</td>\n",
       "    </tr>\n",
       "    <tr>\n",
       "      <th>5531</th>\n",
       "      <td>0</td>\n",
       "      <td>Compliments to you. Was away from the system. ...</td>\n",
       "      <td>60</td>\n",
       "      <td>60</td>\n",
       "      <td>14</td>\n",
       "      <td>3</td>\n",
       "    </tr>\n",
       "    <tr>\n",
       "      <th>2526</th>\n",
       "      <td>0</td>\n",
       "      <td>Do u noe how 2 send files between 2 computers?</td>\n",
       "      <td>46</td>\n",
       "      <td>46</td>\n",
       "      <td>11</td>\n",
       "      <td>1</td>\n",
       "    </tr>\n",
       "    <tr>\n",
       "      <th>2482</th>\n",
       "      <td>0</td>\n",
       "      <td>Pansy! You've been living in a jungle for two ...</td>\n",
       "      <td>101</td>\n",
       "      <td>101</td>\n",
       "      <td>23</td>\n",
       "      <td>3</td>\n",
       "    </tr>\n",
       "    <tr>\n",
       "      <th>3423</th>\n",
       "      <td>1</td>\n",
       "      <td>Am new 2 club &amp; dont fink we met yet Will B gr...</td>\n",
       "      <td>161</td>\n",
       "      <td>161</td>\n",
       "      <td>30</td>\n",
       "      <td>1</td>\n",
       "    </tr>\n",
       "  </tbody>\n",
       "</table>\n",
       "</div>"
      ],
      "text/plain": [
       "      label                                               text  text_length  \\\n",
       "3830      0  Let's pool our money together and buy a bunch ...          116   \n",
       "5531      0  Compliments to you. Was away from the system. ...           60   \n",
       "2526      0     Do u noe how 2 send files between 2 computers?           46   \n",
       "2482      0  Pansy! You've been living in a jungle for two ...          101   \n",
       "3423      1  Am new 2 club & dont fink we met yet Will B gr...          161   \n",
       "\n",
       "      no_of_chars  no_of_words  no_of_sents  \n",
       "3830          116           40            3  \n",
       "5531           60           14            3  \n",
       "2526           46           11            1  \n",
       "2482          101           23            3  \n",
       "3423          161           30            1  "
      ]
     },
     "execution_count": 70,
     "metadata": {},
     "output_type": "execute_result"
    }
   ],
   "source": [
    "validation_df['text_length'] = validation_df['text'].apply(lambda message: len(message))\n",
    "validation_df['no_of_chars'] = validation_df['text'].apply(len)\n",
    "validation_df['no_of_words'] = validation_df['text'].apply(lambda x: len(nltk.word_tokenize(x)))\n",
    "validation_df['no_of_sents'] = validation_df['text'].apply(lambda x: len(nltk.sent_tokenize(x)))\n",
    "\n",
    "validation_df.head()"
   ]
  },
  {
   "cell_type": "code",
   "execution_count": 15,
   "id": "c09dc40a",
   "metadata": {},
   "outputs": [],
   "source": [
    "data=train_df"
   ]
  },
  {
   "cell_type": "code",
   "execution_count": 17,
   "id": "d30609db",
   "metadata": {},
   "outputs": [
    {
     "name": "stdout",
     "output_type": "stream",
     "text": [
      "1171    Got what it takes 2 take part in the WRC Rally...\n",
      "4832    New Mobiles from 2004, MUST GO! Txt: NOKIA to ...\n",
      "1306    Enjoy the jamster videosound gold club with yo...\n",
      "224     500 New Mobiles from 2004, MUST GO! Txt: NOKIA...\n",
      "4614    Sunshine Quiz! Win a super Sony DVD recorder i...\n",
      "1875    HMV BONUS SPECIAL 500 pounds of genuine HMV vo...\n",
      "4384    Do you want a New Nokia 3510i Colour Phone Del...\n",
      "4498    SMS SERVICES. for your inclusive text credits,...\n",
      "2990    HOT LIVE FANTASIES call now 08707509020 Just 2...\n",
      "672     Get ur 1st RINGTONE FREE NOW! Reply to this ms...\n",
      "Name: text, dtype: object\n",
      "4438                 i want to grasp your pretty booty :)\n",
      "4972    Oops I was in the shower when u called. Hey a ...\n",
      "1633      Yesterday its with me only . Now am going home.\n",
      "5571                           Rofl. Its true to its name\n",
      "2408            Dear where you will be when i reach there\n",
      "4624                             I'm on the bus. Love you\n",
      "3825    Goodmorning,my grandfather expired..so am on l...\n",
      "3802    Yup song bro. No creative. Neva test quality. ...\n",
      "4788    We're on the opposite side from where we dropp...\n",
      "3010                Hm good morning, headache anyone? :-)\n",
      "Name: text, dtype: object\n"
     ]
    }
   ],
   "source": [
    "# spams = data['text'].iloc[(data['label'] == 1).values]\n",
    "# hams = data['text'].iloc[(data['label'] == 0).values]\n",
    "# print(spams[:10])\n",
    "# print(hams[:10])"
   ]
  },
  {
   "cell_type": "code",
   "execution_count": 72,
   "id": "b77f3412",
   "metadata": {},
   "outputs": [],
   "source": [
    "binary_vectorizer = CountVectorizer(binary=True)\n",
    "count_vectorizer = CountVectorizer()\n",
    "tfidf_vectorizer = TfidfVectorizer()"
   ]
  },
  {
   "cell_type": "code",
   "execution_count": 73,
   "id": "b848a7fc",
   "metadata": {},
   "outputs": [],
   "source": [
    "def feature_extraction(df, test=False):\n",
    "    #only use text\n",
    "    if not test:\n",
    "        tfidf_vectorizer.fit(df['text'])\n",
    "    \n",
    "    X = np.array(tfidf_vectorizer.transform(df['text']).todense())\n",
    "    return X"
   ]
  },
  {
   "cell_type": "code",
   "execution_count": 74,
   "id": "8b2dca35",
   "metadata": {},
   "outputs": [],
   "source": [
    "X_train = feature_extraction(train_df)\n",
    "y_train = train_df['label'].values\n",
    "\n",
    "X_valid = feature_extraction(validation_df, test=True)\n",
    "y_valid = validation_df['label'].values"
   ]
  },
  {
   "cell_type": "code",
   "execution_count": 75,
   "id": "2932d6bd",
   "metadata": {},
   "outputs": [
    {
     "data": {
      "text/html": [
       "<div>\n",
       "<style scoped>\n",
       "    .dataframe tbody tr th:only-of-type {\n",
       "        vertical-align: middle;\n",
       "    }\n",
       "\n",
       "    .dataframe tbody tr th {\n",
       "        vertical-align: top;\n",
       "    }\n",
       "\n",
       "    .dataframe thead th {\n",
       "        text-align: right;\n",
       "    }\n",
       "</style>\n",
       "<table border=\"1\" class=\"dataframe\">\n",
       "  <thead>\n",
       "    <tr style=\"text-align: right;\">\n",
       "      <th></th>\n",
       "      <th>label</th>\n",
       "      <th>text</th>\n",
       "      <th>text_length</th>\n",
       "      <th>no_of_chars</th>\n",
       "      <th>no_of_words</th>\n",
       "      <th>no_of_sents</th>\n",
       "    </tr>\n",
       "  </thead>\n",
       "  <tbody>\n",
       "    <tr>\n",
       "      <th>1171</th>\n",
       "      <td>1</td>\n",
       "      <td>Got what it takes 2 take part in the WRC Rally...</td>\n",
       "      <td>159</td>\n",
       "      <td>159</td>\n",
       "      <td>38</td>\n",
       "      <td>3</td>\n",
       "    </tr>\n",
       "    <tr>\n",
       "      <th>4438</th>\n",
       "      <td>0</td>\n",
       "      <td>i want to grasp your pretty booty :)</td>\n",
       "      <td>36</td>\n",
       "      <td>36</td>\n",
       "      <td>9</td>\n",
       "      <td>1</td>\n",
       "    </tr>\n",
       "  </tbody>\n",
       "</table>\n",
       "</div>"
      ],
      "text/plain": [
       "      label                                               text  text_length  \\\n",
       "1171      1  Got what it takes 2 take part in the WRC Rally...          159   \n",
       "4438      0               i want to grasp your pretty booty :)           36   \n",
       "\n",
       "      no_of_chars  no_of_words  no_of_sents  \n",
       "1171          159           38            3  \n",
       "4438           36            9            1  "
      ]
     },
     "execution_count": 75,
     "metadata": {},
     "output_type": "execute_result"
    }
   ],
   "source": [
    "train_df.head(2)"
   ]
  },
  {
   "cell_type": "code",
   "execution_count": 76,
   "id": "9b746d8f",
   "metadata": {},
   "outputs": [
    {
     "data": {
      "text/plain": [
       "array([1, 0, 1, ..., 0, 0, 1])"
      ]
     },
     "execution_count": 76,
     "metadata": {},
     "output_type": "execute_result"
    }
   ],
   "source": [
    "train_df['label'].values"
   ]
  },
  {
   "cell_type": "code",
   "execution_count": 77,
   "id": "84ffd343",
   "metadata": {},
   "outputs": [],
   "source": [
    "clfs = {\n",
    "    'mnb': MultinomialNB(),\n",
    "    'gnb': GaussianNB(),\n",
    "    'bnb':BernoulliNB()\n",
    "\n",
    "}"
   ]
  },
  {
   "cell_type": "code",
   "execution_count": 78,
   "id": "a18053f7",
   "metadata": {},
   "outputs": [
    {
     "name": "stdout",
     "output_type": "stream",
     "text": [
      "mnb\n",
      "gnb\n",
      "bnb\n"
     ]
    }
   ],
   "source": [
    "f1_scores = dict()\n",
    "for clf_name in clfs:\n",
    "    print(clf_name)\n",
    "    clf = clfs[clf_name]\n",
    "    clf.fit(X_train, y_train)\n",
    "    y_pred = clf.predict(X_valid)\n",
    "    f1_scores[clf_name] = f1_score(y_pred, y_valid)"
   ]
  },
  {
   "cell_type": "code",
   "execution_count": 79,
   "id": "6b42e09f",
   "metadata": {},
   "outputs": [
    {
     "data": {
      "text/plain": [
       "{'mnb': 0.7520661157024793,\n",
       " 'gnb': 0.7287234042553191,\n",
       " 'bnb': 0.8773234200743495}"
      ]
     },
     "execution_count": 79,
     "metadata": {},
     "output_type": "execute_result"
    }
   ],
   "source": [
    "f1_scores\n"
   ]
  },
  {
   "cell_type": "code",
   "execution_count": 80,
   "id": "926778bb",
   "metadata": {},
   "outputs": [],
   "source": [
    "def feature_extraction(df, test=False):\n",
    "    #use text and length\n",
    "    if not test:\n",
    "        count_vectorizer.fit(df['text'])\n",
    "    \n",
    "    X = np.array(count_vectorizer.transform(df['text']).todense())\n",
    "    X = np.concatenate((X, df['text_length'].values.reshape(-1, 1)), axis=1)\n",
    "    return X"
   ]
  },
  {
   "cell_type": "code",
   "execution_count": 81,
   "id": "8f5e014c",
   "metadata": {},
   "outputs": [],
   "source": [
    "X_train = feature_extraction(train_df)\n",
    "y_train = train_df['label'].values\n",
    "\n",
    "X_valid = feature_extraction(validation_df, test=True)\n",
    "y_valid = validation_df['label'].values"
   ]
  },
  {
   "cell_type": "code",
   "execution_count": 82,
   "id": "e0fb4570",
   "metadata": {},
   "outputs": [
    {
     "name": "stdout",
     "output_type": "stream",
     "text": [
      "mnb\n",
      "gnb\n",
      "bnb\n"
     ]
    }
   ],
   "source": [
    "clfs = {\n",
    "    'mnb': MultinomialNB(),\n",
    "    'gnb': GaussianNB(),\n",
    "    'bnb':BernoulliNB()\n",
    "\n",
    "}\n",
    "f1_scores = dict()\n",
    "for clf_name in clfs:\n",
    "    print(clf_name)\n",
    "    clf = clfs[clf_name]\n",
    "    clf.fit(X_train, y_train)\n",
    "    y_pred = clf.predict(X_valid)\n",
    "    f1_scores[clf_name] = f1_score(y_pred, y_valid)"
   ]
  },
  {
   "cell_type": "code",
   "execution_count": 83,
   "id": "e1ccf618",
   "metadata": {},
   "outputs": [
    {
     "data": {
      "text/plain": [
       "{'mnb': 0.9351535836177475,\n",
       " 'gnb': 0.7421052631578946,\n",
       " 'bnb': 0.8773234200743495}"
      ]
     },
     "execution_count": 83,
     "metadata": {},
     "output_type": "execute_result"
    }
   ],
   "source": [
    "f1_scores\n",
    "#using text length helps. mnb is the best"
   ]
  },
  {
   "cell_type": "code",
   "execution_count": 86,
   "id": "9dd9d973",
   "metadata": {},
   "outputs": [],
   "source": [
    "def feature_extraction(df, test=False):\n",
    "    #use text and length\n",
    "    if not test:\n",
    "        count_vectorizer.fit(df['text'])\n",
    "    \n",
    "    X = np.array(count_vectorizer.transform(df['text']).todense())\n",
    "    X = np.concatenate((X, df['no_of_chars'].values.reshape(-1, 1)), axis=1)\n",
    "    X = np.concatenate((X, df['no_of_words'].values.reshape(-1, 1)), axis=1)\n",
    "    X = np.concatenate((X, df['no_of_sents'].values.reshape(-1, 1)), axis=1)\n",
    "    return X\n"
   ]
  },
  {
   "cell_type": "code",
   "execution_count": 85,
   "id": "0c5d75f8",
   "metadata": {},
   "outputs": [
    {
     "name": "stdout",
     "output_type": "stream",
     "text": [
      "mnb\n",
      "gnb\n",
      "bnb\n"
     ]
    },
    {
     "data": {
      "text/plain": [
       "{'mnb': 0.9379310344827586,\n",
       " 'gnb': 0.7421052631578946,\n",
       " 'bnb': 0.8773234200743495}"
      ]
     },
     "execution_count": 85,
     "metadata": {},
     "output_type": "execute_result"
    }
   ],
   "source": [
    "X_train = feature_extraction(train_df)\n",
    "y_train = train_df['label'].values\n",
    "\n",
    "X_valid = feature_extraction(validation_df, test=True)\n",
    "y_valid = validation_df['label'].values\n",
    "clfs = {\n",
    "    'mnb': MultinomialNB(),\n",
    "    'gnb': GaussianNB(),\n",
    "    'bnb':BernoulliNB()\n",
    "\n",
    "}\n",
    "f1_scores = dict()\n",
    "for clf_name in clfs:\n",
    "    print(clf_name)\n",
    "    clf = clfs[clf_name]\n",
    "    clf.fit(X_train, y_train)\n",
    "    y_pred = clf.predict(X_valid)\n",
    "    f1_scores[clf_name] = f1_score(y_pred, y_valid)\n",
    "f1_scores\n",
    "#using text length helps. mnb is the best"
   ]
  },
  {
   "cell_type": "code",
   "execution_count": 87,
   "id": "b503bc2e",
   "metadata": {},
   "outputs": [],
   "source": [
    "X_train = feature_extraction(train_df)\n",
    "X_valid = feature_extraction(validation_df, test=True)"
   ]
  },
  {
   "cell_type": "code",
   "execution_count": 88,
   "id": "9a0a88ca",
   "metadata": {},
   "outputs": [
    {
     "name": "stderr",
     "output_type": "stream",
     "text": [
      "/Users/joonghochoi/miniconda3/envs/sweAI/lib/python3.9/site-packages/sklearn/naive_bayes.py:555: UserWarning: alpha too small will result in numeric errors, setting alpha = 1.0e-10\n",
      "  warnings.warn(\n"
     ]
    }
   ],
   "source": [
    "alpha_values = [i * 0.1 for i in range(11)]\n",
    "max_f1_score = float('-inf')\n",
    "best_alpha = None\n",
    "for alpha in alpha_values:\n",
    "    clf = MultinomialNB(alpha=alpha)\n",
    "    clf.fit(X_train, y_train)\n",
    "    y_pred = clf.predict(X_valid)\n",
    "    current_f1_score = f1_score(y_pred, y_valid)\n",
    "    if current_f1_score > max_f1_score:\n",
    "        max_f1_score = current_f1_score\n",
    "        best_alpha = alpha"
   ]
  },
  {
   "cell_type": "code",
   "execution_count": 89,
   "id": "6287e50d",
   "metadata": {},
   "outputs": [
    {
     "name": "stdout",
     "output_type": "stream",
     "text": [
      "Best alpha: 0.1\n",
      "Best f1-score: 0.9568106312292359\n"
     ]
    }
   ],
   "source": [
    "print('Best alpha: {0}'.format(best_alpha))\n",
    "print('Best f1-score: {0}'.format(max_f1_score))"
   ]
  },
  {
   "cell_type": "code",
   "execution_count": 90,
   "id": "843bbbd9",
   "metadata": {},
   "outputs": [
    {
     "data": {
      "text/html": [
       "<div>\n",
       "<style scoped>\n",
       "    .dataframe tbody tr th:only-of-type {\n",
       "        vertical-align: middle;\n",
       "    }\n",
       "\n",
       "    .dataframe tbody tr th {\n",
       "        vertical-align: top;\n",
       "    }\n",
       "\n",
       "    .dataframe thead th {\n",
       "        text-align: right;\n",
       "    }\n",
       "</style>\n",
       "<table border=\"1\" class=\"dataframe\">\n",
       "  <thead>\n",
       "    <tr style=\"text-align: right;\">\n",
       "      <th></th>\n",
       "      <th>label</th>\n",
       "      <th>text</th>\n",
       "    </tr>\n",
       "  </thead>\n",
       "  <tbody>\n",
       "    <tr>\n",
       "      <th>0</th>\n",
       "      <td>0</td>\n",
       "      <td>Funny fact Nobody teaches volcanoes 2 erupt, t...</td>\n",
       "    </tr>\n",
       "    <tr>\n",
       "      <th>1</th>\n",
       "      <td>0</td>\n",
       "      <td>I sent my scores to sophas and i had to do sec...</td>\n",
       "    </tr>\n",
       "    <tr>\n",
       "      <th>2</th>\n",
       "      <td>1</td>\n",
       "      <td>We know someone who you know that fancies you....</td>\n",
       "    </tr>\n",
       "    <tr>\n",
       "      <th>3</th>\n",
       "      <td>0</td>\n",
       "      <td>Only if you promise your getting out as SOON a...</td>\n",
       "    </tr>\n",
       "    <tr>\n",
       "      <th>4</th>\n",
       "      <td>1</td>\n",
       "      <td>Congratulations ur awarded either å£500 of CD ...</td>\n",
       "    </tr>\n",
       "    <tr>\n",
       "      <th>...</th>\n",
       "      <td>...</td>\n",
       "      <td>...</td>\n",
       "    </tr>\n",
       "    <tr>\n",
       "      <th>1667</th>\n",
       "      <td>0</td>\n",
       "      <td>Congrats kano..whr s the treat maga?</td>\n",
       "    </tr>\n",
       "    <tr>\n",
       "      <th>1668</th>\n",
       "      <td>0</td>\n",
       "      <td>Say this slowly.? GOD,I LOVE YOU &amp;amp; I NEED ...</td>\n",
       "    </tr>\n",
       "    <tr>\n",
       "      <th>1669</th>\n",
       "      <td>0</td>\n",
       "      <td>You are gorgeous! keep those pix cumming :) th...</td>\n",
       "    </tr>\n",
       "    <tr>\n",
       "      <th>1670</th>\n",
       "      <td>0</td>\n",
       "      <td>Thats cool! Sometimes slow and gentle. Sonetim...</td>\n",
       "    </tr>\n",
       "    <tr>\n",
       "      <th>1671</th>\n",
       "      <td>0</td>\n",
       "      <td>Ranjith cal drpd Deeraj and deepak 5min hold</td>\n",
       "    </tr>\n",
       "  </tbody>\n",
       "</table>\n",
       "<p>1672 rows × 2 columns</p>\n",
       "</div>"
      ],
      "text/plain": [
       "      label                                               text\n",
       "0         0  Funny fact Nobody teaches volcanoes 2 erupt, t...\n",
       "1         0  I sent my scores to sophas and i had to do sec...\n",
       "2         1  We know someone who you know that fancies you....\n",
       "3         0  Only if you promise your getting out as SOON a...\n",
       "4         1  Congratulations ur awarded either å£500 of CD ...\n",
       "...     ...                                                ...\n",
       "1667      0               Congrats kano..whr s the treat maga?\n",
       "1668      0  Say this slowly.? GOD,I LOVE YOU &amp; I NEED ...\n",
       "1669      0  You are gorgeous! keep those pix cumming :) th...\n",
       "1670      0  Thats cool! Sometimes slow and gentle. Sonetim...\n",
       "1671      0       Ranjith cal drpd Deeraj and deepak 5min hold\n",
       "\n",
       "[1672 rows x 2 columns]"
      ]
     },
     "execution_count": 90,
     "metadata": {},
     "output_type": "execute_result"
    }
   ],
   "source": [
    "test_data=pd.read_csv(\"/Users/joonghochoi/Desktop/BNY Mellon/data/test.csv\")\n",
    "test_data"
   ]
  },
  {
   "cell_type": "code",
   "execution_count": 92,
   "id": "28f97149",
   "metadata": {},
   "outputs": [],
   "source": [
    "test_data['text_length'] = test_data['text'].apply(lambda message: len(message))\n",
    "test_data['no_of_chars'] = test_data['text'].apply(len)\n",
    "test_data['no_of_words'] = test_data['text'].apply(lambda x: len(nltk.word_tokenize(x)))\n",
    "test_data['no_of_sents'] = test_data['text'].apply(lambda x: len(nltk.sent_tokenize(x)))\n"
   ]
  },
  {
   "cell_type": "code",
   "execution_count": 101,
   "id": "2bba4568",
   "metadata": {},
   "outputs": [],
   "source": [
    "clf = MultinomialNB(alpha=0.1)\n",
    "X_train = feature_extraction(train_df)\n",
    "y_train = train_df['label'].values\n",
    "X_test = feature_extraction(test_data, test=True)\n",
    "y_test = test_data['label'].values"
   ]
  },
  {
   "cell_type": "code",
   "execution_count": 102,
   "id": "09807270",
   "metadata": {},
   "outputs": [
    {
     "data": {
      "text/plain": [
       "MultinomialNB(alpha=0.1)"
      ]
     },
     "execution_count": 102,
     "metadata": {},
     "output_type": "execute_result"
    }
   ],
   "source": [
    "clf.fit(X_train, y_train)\n"
   ]
  },
  {
   "cell_type": "code",
   "execution_count": 104,
   "id": "719a65f0",
   "metadata": {},
   "outputs": [
    {
     "name": "stdout",
     "output_type": "stream",
     "text": [
      "F1-score: 0.9241706161137442\n",
      "Confusion matrix:\n"
     ]
    },
    {
     "data": {
      "text/plain": [
       "array([[1445,   24],\n",
       "       [   8,  195]])"
      ]
     },
     "execution_count": 104,
     "metadata": {},
     "output_type": "execute_result"
    }
   ],
   "source": [
    "y_pred = clf.predict(X_test)\n",
    "print('F1-score: {0}'.format(f1_score(y_pred, y_test)))\n",
    "print('Confusion matrix:')\n",
    "confusion_matrix(y_pred, y_test)"
   ]
  },
  {
   "cell_type": "code",
   "execution_count": null,
   "id": "7da30f96",
   "metadata": {},
   "outputs": [],
   "source": []
  }
 ],
 "metadata": {
  "kernelspec": {
   "display_name": "sweAI",
   "language": "python",
   "name": "sweai"
  },
  "language_info": {
   "codemirror_mode": {
    "name": "ipython",
    "version": 3
   },
   "file_extension": ".py",
   "mimetype": "text/x-python",
   "name": "python",
   "nbconvert_exporter": "python",
   "pygments_lexer": "ipython3",
   "version": "3.9.6"
  }
 },
 "nbformat": 4,
 "nbformat_minor": 5
}
