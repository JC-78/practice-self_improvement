{
 "cells": [
  {
   "cell_type": "code",
   "execution_count": 1,
   "id": "ac6b2535",
   "metadata": {},
   "outputs": [
    {
     "name": "stdout",
     "output_type": "stream",
     "text": [
      "[1, 2]\n",
      "[3, 4]\n",
      "[5, 6]\n"
     ]
    }
   ],
   "source": [
    "def create_paginator(items, page_size):\n",
    "\n",
    "    for i in range(0, len(items), page_size):\n",
    "        yield items[i:i + page_size]\n",
    "\n",
    "items = [1, 2, 3, 4, 5, 6]\n",
    "page_size = 2\n",
    "\n",
    "paginator = create_paginator(items, page_size)\n",
    "\n",
    "for page in paginator:\n",
    "    print(page)\n"
   ]
  },
  {
   "cell_type": "code",
   "execution_count": 2,
   "id": "57fce1bc",
   "metadata": {},
   "outputs": [
    {
     "name": "stdout",
     "output_type": "stream",
     "text": [
      "[1, 3]\n",
      "[4, 6]\n"
     ]
    }
   ],
   "source": [
    "items = [1, 3,4,6]\n",
    "page_size = 2\n",
    "\n",
    "paginator = create_paginator(items, page_size)\n",
    "\n",
    "for page in paginator:\n",
    "    print(page)"
   ]
  },
  {
   "cell_type": "code",
   "execution_count": 3,
   "id": "8343fc7d",
   "metadata": {},
   "outputs": [
    {
     "name": "stdout",
     "output_type": "stream",
     "text": [
      "[15]\n",
      "[20]\n",
      "[10]\n",
      "[12]\n",
      "[18]\n"
     ]
    }
   ],
   "source": [
    "items = [15,20,10,12,18]\n",
    "page_size = 1\n",
    "\n",
    "paginator = create_paginator(items, page_size)\n",
    "\n",
    "for page in paginator:\n",
    "    print(page)"
   ]
  },
  {
   "cell_type": "code",
   "execution_count": 6,
   "id": "2da4f6b5",
   "metadata": {},
   "outputs": [
    {
     "name": "stdout",
     "output_type": "stream",
     "text": [
      "dog\n",
      "cat\n",
      "mouse\n"
     ]
    },
    {
     "ename": "AttributeError",
     "evalue": "'FancyTuple' object has no attribute 'fifth'",
     "output_type": "error",
     "traceback": [
      "\u001b[0;31m---------------------------------------------------------------------------\u001b[0m",
      "\u001b[0;31mAttributeError\u001b[0m                            Traceback (most recent call last)",
      "Input \u001b[0;32mIn [6]\u001b[0m, in \u001b[0;36m<cell line: 26>\u001b[0;34m()\u001b[0m\n\u001b[1;32m     24\u001b[0m \u001b[38;5;28mprint\u001b[39m(ft\u001b[38;5;241m.\u001b[39mthird)   \u001b[38;5;66;03m# Should print \"mouse\"\u001b[39;00m\n\u001b[1;32m     25\u001b[0m \u001b[38;5;66;03m# print(ft.fourth)   # Should print \"mouse\"\u001b[39;00m\n\u001b[0;32m---> 26\u001b[0m \u001b[38;5;28mprint\u001b[39m(\u001b[43mft\u001b[49m\u001b[38;5;241;43m.\u001b[39;49m\u001b[43mfifth\u001b[49m)   \u001b[38;5;66;03m# Should print \"mouse\"\u001b[39;00m\n\u001b[1;32m     28\u001b[0m \u001b[38;5;66;03m# The fourth and fifth attributes will raise an AttributeError if accessed\u001b[39;00m\n\u001b[1;32m     29\u001b[0m \u001b[38;5;28mprint\u001b[39m(\u001b[38;5;28mlen\u001b[39m(ft))\n",
      "Input \u001b[0;32mIn [6]\u001b[0m, in \u001b[0;36mFancyTuple.__getattr__\u001b[0;34m(self, item)\u001b[0m\n\u001b[1;32m     14\u001b[0m         \u001b[38;5;28;01mreturn\u001b[39;00m \u001b[38;5;28mself\u001b[39m\u001b[38;5;241m.\u001b[39m_items[index]\n\u001b[1;32m     15\u001b[0m     \u001b[38;5;28;01melse\u001b[39;00m:\n\u001b[0;32m---> 16\u001b[0m         \u001b[38;5;28;01mraise\u001b[39;00m \u001b[38;5;167;01mAttributeError\u001b[39;00m(\u001b[38;5;124mf\u001b[39m\u001b[38;5;124m\"\u001b[39m\u001b[38;5;124m'\u001b[39m\u001b[38;5;124mFancyTuple\u001b[39m\u001b[38;5;124m'\u001b[39m\u001b[38;5;124m object has no attribute \u001b[39m\u001b[38;5;124m'\u001b[39m\u001b[38;5;132;01m{\u001b[39;00mitem\u001b[38;5;132;01m}\u001b[39;00m\u001b[38;5;124m'\u001b[39m\u001b[38;5;124m\"\u001b[39m)\n\u001b[1;32m     17\u001b[0m \u001b[38;5;28;01melse\u001b[39;00m:\n\u001b[1;32m     18\u001b[0m     \u001b[38;5;28;01mraise\u001b[39;00m \u001b[38;5;167;01mAttributeError\u001b[39;00m(\u001b[38;5;124mf\u001b[39m\u001b[38;5;124m\"\u001b[39m\u001b[38;5;124m'\u001b[39m\u001b[38;5;124mFancyTuple\u001b[39m\u001b[38;5;124m'\u001b[39m\u001b[38;5;124m object has no attribute \u001b[39m\u001b[38;5;124m'\u001b[39m\u001b[38;5;132;01m{\u001b[39;00mitem\u001b[38;5;132;01m}\u001b[39;00m\u001b[38;5;124m'\u001b[39m\u001b[38;5;124m\"\u001b[39m)\n",
      "\u001b[0;31mAttributeError\u001b[0m: 'FancyTuple' object has no attribute 'fifth'"
     ]
    }
   ],
   "source": [
    "#Q16\n",
    "class FancyTuple:\n",
    "    def __init__(self, *args):\n",
    "        self._items = args\n",
    "    \n",
    "    def __len__(self):\n",
    "        return len(self._items)\n",
    "    \n",
    "    def __getattr__(self, item):\n",
    "        if item in ['first', 'second', 'third', 'fourth', 'fifth']:\n",
    "            index = ['first', 'second', 'third', 'fourth', 'fifth'].index(item)\n",
    "            if index < len(self._items):\n",
    "                return self._items[index]\n",
    "            else:\n",
    "                raise AttributeError(f\"'FancyTuple' object has no attribute '{item}'\")\n",
    "        else:\n",
    "            raise AttributeError(f\"'FancyTuple' object has no attribute '{item}'\")\n",
    "\n",
    "# Test the FancyTuple class\n",
    "ft = FancyTuple(\"dog\", \"cat\", \"mouse\")\n",
    "print(ft.first)   \n",
    "print(ft.second) \n",
    "print(ft.third)  \n",
    "# print(ft.fourth)   \n",
    "print(ft.fifth)   \n",
    "\n",
    "print(len(ft))    \n"
   ]
  },
  {
   "cell_type": "code",
   "execution_count": 9,
   "id": "f3acc974",
   "metadata": {},
   "outputs": [
    {
     "name": "stdout",
     "output_type": "stream",
     "text": [
      "an extreme dangerou dog is bark\n"
     ]
    }
   ],
   "source": [
    "#14\n",
    "def stemmer(text):\n",
    "\n",
    "    suffixes = ('ed', 'ly', 'ing')\n",
    "    \n",
    "    words = text.split()\n",
    "    \n",
    "    stemmed_words = []\n",
    "    for word in words:\n",
    "        if word.endswith(suffixes):\n",
    "            if word.endswith('ing'):\n",
    "                word = word[:-3]  \n",
    "            else:\n",
    "                word = word[:-2]  \n",
    "        if len(word) > 8:\n",
    "            word = word[:8]\n",
    "        stemmed_words.append(word)\n",
    "    \n",
    "    return ' '.join(stemmed_words)\n",
    "\n",
    "# Example usage\n",
    "text = 'an extremely dangerous dog is barking'\n",
    "stemmed_text = stemmer(text)\n",
    "print(stemmed_text)  # Should print 'an extrem dangerou dog is barki'\n"
   ]
  },
  {
   "cell_type": "code",
   "execution_count": 10,
   "id": "23a69587",
   "metadata": {},
   "outputs": [
    {
     "name": "stdout",
     "output_type": "stream",
     "text": [
      "a boy is jump quick\n"
     ]
    }
   ],
   "source": [
    "# Example usage\n",
    "text = 'a boy is jumping quickly'\n",
    "stemmed_text = stemmer(text)\n",
    "print(stemmed_text)  # Should print 'an extrem dangerou dog is barki'"
   ]
  },
  {
   "cell_type": "code",
   "execution_count": 11,
   "id": "7966510e",
   "metadata": {},
   "outputs": [
    {
     "name": "stdout",
     "output_type": "stream",
     "text": [
      "police agent everybod differen run public though become inside air despite matter agree customer politica mrs writer oil society accord skill radio free choice very forget behavior best start onto sister religiou mind wait happen move someone our still news push and determin everyth bad you between entire paper give governme dark effect thought pass official close rather church grow use owner mission world without right democrat wrong far economic worry then specific fall part who such internat each directio might drug worker wife understa daughter treatmen letter be analysis bill occur responsi himself arrive get too long themselv sign\n"
     ]
    }
   ],
   "source": [
    "# Example usage\n",
    "text = 'police agent everybody differen run public though become inside air despite matter agree customer political mrs writer oil society accord skill radio free choice very forget behavior best start onto sister religious mind wait happen move someone our still news push and determine everyth bad you between entire paper give government dark effect thought pass official close rather church grow use owner mission world without right democratic wrong far economic worry then specific fall part who such international each directio might drug worker wife understa daughter treatment letter be analysis bill occur responsibility himself arrive get too long themselv sign'\n",
    "stemmed_text = stemmer(text)\n",
    "print(stemmed_text)  # Should print 'an extrem dangerou dog is barki'"
   ]
  },
  {
   "cell_type": "code",
   "execution_count": null,
   "id": "956fc9e7",
   "metadata": {},
   "outputs": [],
   "source": []
  }
 ],
 "metadata": {
  "kernelspec": {
   "display_name": "sweAI",
   "language": "python",
   "name": "sweai"
  },
  "language_info": {
   "codemirror_mode": {
    "name": "ipython",
    "version": 3
   },
   "file_extension": ".py",
   "mimetype": "text/x-python",
   "name": "python",
   "nbconvert_exporter": "python",
   "pygments_lexer": "ipython3",
   "version": "3.9.6"
  }
 },
 "nbformat": 4,
 "nbformat_minor": 5
}
