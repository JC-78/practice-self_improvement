{
 "cells": [
  {
   "cell_type": "code",
   "execution_count": 36,
   "id": "071106a2",
   "metadata": {},
   "outputs": [],
   "source": [
    "import pandas as pd\n",
    "import unittest\n",
    "import csv\n",
    "df = pd.read_csv('/Users/joonghochoi/Desktop/17445_SWEAI/kafka/demo/HW2/meow.csv')"
   ]
  },
  {
   "cell_type": "code",
   "execution_count": 37,
   "id": "20f5bc83",
   "metadata": {},
   "outputs": [
    {
     "data": {
      "text/html": [
       "<div>\n",
       "<style scoped>\n",
       "    .dataframe tbody tr th:only-of-type {\n",
       "        vertical-align: middle;\n",
       "    }\n",
       "\n",
       "    .dataframe tbody tr th {\n",
       "        vertical-align: top;\n",
       "    }\n",
       "\n",
       "    .dataframe thead th {\n",
       "        text-align: right;\n",
       "    }\n",
       "</style>\n",
       "<table border=\"1\" class=\"dataframe\">\n",
       "  <thead>\n",
       "    <tr style=\"text-align: right;\">\n",
       "      <th></th>\n",
       "      <th>time</th>\n",
       "      <th>user.id</th>\n",
       "      <th>movie.id</th>\n",
       "      <th>year</th>\n",
       "      <th>rating</th>\n",
       "    </tr>\n",
       "  </thead>\n",
       "  <tbody>\n",
       "    <tr>\n",
       "      <th>0</th>\n",
       "      <td>2023-01-23T19:59:42</td>\n",
       "      <td>143499</td>\n",
       "      <td>theres+something+about+mary+1998</td>\n",
       "      <td>1998</td>\n",
       "      <td>4</td>\n",
       "    </tr>\n",
       "    <tr>\n",
       "      <th>1</th>\n",
       "      <td>2023-01-23T20:00:08</td>\n",
       "      <td>704712</td>\n",
       "      <td>free+willy+2+-+the+adventure+home+1998</td>\n",
       "      <td>1995</td>\n",
       "      <td>3</td>\n",
       "    </tr>\n",
       "    <tr>\n",
       "      <th>2</th>\n",
       "      <td>2023-01-23T20:02:43</td>\n",
       "      <td>298756</td>\n",
       "      <td>the+godfather+part+ii+1998</td>\n",
       "      <td>1974</td>\n",
       "      <td>5</td>\n",
       "    </tr>\n",
       "    <tr>\n",
       "      <th>3</th>\n",
       "      <td>2023-01-23T20:09:44</td>\n",
       "      <td>303997</td>\n",
       "      <td>the+brady+bunch+movie+1998</td>\n",
       "      <td>1995</td>\n",
       "      <td>2</td>\n",
       "    </tr>\n",
       "    <tr>\n",
       "      <th>4</th>\n",
       "      <td>2023-01-23T20:10</td>\n",
       "      <td>629902</td>\n",
       "      <td>unfaithful+1998</td>\n",
       "      <td>2002</td>\n",
       "      <td>4</td>\n",
       "    </tr>\n",
       "  </tbody>\n",
       "</table>\n",
       "</div>"
      ],
      "text/plain": [
       "                  time  user.id                                movie.id  year  \\\n",
       "0  2023-01-23T19:59:42   143499        theres+something+about+mary+1998  1998   \n",
       "1  2023-01-23T20:00:08   704712  free+willy+2+-+the+adventure+home+1998  1995   \n",
       "2  2023-01-23T20:02:43   298756              the+godfather+part+ii+1998  1974   \n",
       "3  2023-01-23T20:09:44   303997              the+brady+bunch+movie+1998  1995   \n",
       "4     2023-01-23T20:10   629902                         unfaithful+1998  2002   \n",
       "\n",
       "   rating  \n",
       "0       4  \n",
       "1       3  \n",
       "2       5  \n",
       "3       2  \n",
       "4       4  "
      ]
     },
     "execution_count": 37,
     "metadata": {},
     "output_type": "execute_result"
    }
   ],
   "source": [
    "df.head()"
   ]
  },
  {
   "cell_type": "code",
   "execution_count": 42,
   "id": "5727740a",
   "metadata": {},
   "outputs": [
    {
     "name": "stdout",
     "output_type": "stream",
     "text": [
      "There are whitespace or space characters in the 'column' column.\n"
     ]
    }
   ],
   "source": [
    "df = pd.DataFrame({'column': ['abc123', 'def456', 'gh 789', 'jklmno']})\n",
    "\n",
    "# check if there are any whitespace or space characters in the 'column' column\n",
    "pattern = r'\\s'\n",
    "if df['column'].str.contains(pattern).any():\n",
    "    print(\"There are whitespace or space characters in the 'column' column.\")\n",
    "else:\n",
    "    print(\"There are no whitespace or space characters in the 'column' column.\")"
   ]
  },
  {
   "cell_type": "code",
   "execution_count": 8,
   "id": "c9a06d1c",
   "metadata": {},
   "outputs": [
    {
     "name": "stdout",
     "output_type": "stream",
     "text": [
      "Index(['time', 'user.id', 'movie.id', 'year', 'rating'], dtype='object')\n",
      "True\n",
      "True\n",
      "True\n",
      "True\n",
      "True\n"
     ]
    }
   ],
   "source": [
    "print(df.columns)\n",
    "print(df.columns[0]==\"time\")\n",
    "print(df.columns[1]==\"user.id\")\n",
    "print(df.columns[2]==\"movie.id\")\n",
    "print(df.columns[3]==\"year\")\n",
    "print(df.columns[4]==\"rating\")\n"
   ]
  },
  {
   "cell_type": "code",
   "execution_count": 26,
   "id": "1b64ef51",
   "metadata": {},
   "outputs": [
    {
     "data": {
      "text/plain": [
       "True"
      ]
     },
     "execution_count": 26,
     "metadata": {},
     "output_type": "execute_result"
    }
   ],
   "source": [
    "isinstance(df['time'], pd.core.series.Series)"
   ]
  },
  {
   "cell_type": "code",
   "execution_count": 23,
   "id": "6fe056d5",
   "metadata": {},
   "outputs": [
    {
     "data": {
      "text/plain": [
       "True"
      ]
     },
     "execution_count": 23,
     "metadata": {},
     "output_type": "execute_result"
    }
   ],
   "source": [
    "df['year'].dtype == 'int64'"
   ]
  },
  {
   "cell_type": "code",
   "execution_count": 22,
   "id": "14658e40",
   "metadata": {},
   "outputs": [
    {
     "data": {
      "text/plain": [
       "True"
      ]
     },
     "execution_count": 22,
     "metadata": {},
     "output_type": "execute_result"
    }
   ],
   "source": [
    "df['rating'].dtype == 'int64'"
   ]
  },
  {
   "cell_type": "code",
   "execution_count": 19,
   "id": "19fa306c",
   "metadata": {},
   "outputs": [
    {
     "data": {
      "text/plain": [
       "True"
      ]
     },
     "execution_count": 19,
     "metadata": {},
     "output_type": "execute_result"
    }
   ],
   "source": [
    "df['user.id'].dtype == 'int64'"
   ]
  },
  {
   "cell_type": "code",
   "execution_count": 21,
   "id": "f4cced8f",
   "metadata": {},
   "outputs": [
    {
     "data": {
      "text/plain": [
       "True"
      ]
     },
     "execution_count": 21,
     "metadata": {},
     "output_type": "execute_result"
    }
   ],
   "source": [
    "df['movie.id'].dtype == 'object'"
   ]
  },
  {
   "cell_type": "code",
   "execution_count": 24,
   "id": "68b0cd9e",
   "metadata": {},
   "outputs": [
    {
     "data": {
      "text/plain": [
       "pandas.core.series.Series"
      ]
     },
     "execution_count": 24,
     "metadata": {},
     "output_type": "execute_result"
    }
   ],
   "source": [
    "type(df['time'])"
   ]
  },
  {
   "cell_type": "code",
   "execution_count": null,
   "id": "6d3453cf",
   "metadata": {},
   "outputs": [],
   "source": []
  },
  {
   "cell_type": "code",
   "execution_count": null,
   "id": "c2873efe",
   "metadata": {},
   "outputs": [],
   "source": []
  },
  {
   "cell_type": "code",
   "execution_count": null,
   "id": "7bf2e385",
   "metadata": {},
   "outputs": [],
   "source": []
  },
  {
   "cell_type": "code",
   "execution_count": null,
   "id": "029a122b",
   "metadata": {},
   "outputs": [],
   "source": []
  },
  {
   "cell_type": "code",
   "execution_count": 3,
   "id": "9a7bb255",
   "metadata": {},
   "outputs": [
    {
     "name": "stderr",
     "output_type": "stream",
     "text": [
      "E\n",
      "======================================================================\n",
      "ERROR: /Users/joonghochoi/Library/Jupyter/runtime/kernel-a9f074f0-139c-483d-8a12-81fae4447577 (unittest.loader._FailedTest)\n",
      "----------------------------------------------------------------------\n",
      "AttributeError: module '__main__' has no attribute '/Users/joonghochoi/Library/Jupyter/runtime/kernel-a9f074f0-139c-483d-8a12-81fae4447577'\n",
      "\n",
      "----------------------------------------------------------------------\n",
      "Ran 1 test in 0.001s\n",
      "\n",
      "FAILED (errors=1)\n"
     ]
    },
    {
     "ename": "SystemExit",
     "evalue": "True",
     "output_type": "error",
     "traceback": [
      "An exception has occurred, use %tb to see the full traceback.\n",
      "\u001b[0;31mSystemExit\u001b[0m\u001b[0;31m:\u001b[0m True\n"
     ]
    },
    {
     "name": "stderr",
     "output_type": "stream",
     "text": [
      "/Users/joonghochoi/miniconda3/envs/sweAI/lib/python3.9/site-packages/IPython/core/interactiveshell.py:3405: UserWarning: To exit: use 'exit', 'quit', or Ctrl-D.\n",
      "  warn(\"To exit: use 'exit', 'quit', or Ctrl-D.\", stacklevel=1)\n"
     ]
    }
   ],
   "source": [
    "import pandas as pd\n",
    "import unittest\n",
    "import csv\n",
    "\n",
    "class TestDataQuality(unittest.TestCase):\n",
    "\n",
    "    def test_csv_file(self):\n",
    "        # Open the CSV file\n",
    "        #path=\"\"\n",
    "        path='/Users/joonghochoi/Desktop/17445_SWEAI/kafka/demo/HW2/meow.csv'\n",
    "        df =pd.read_csv(path)\n",
    "        # Check that the CSV file has the correct number of columns\n",
    "        self.assertEqual(len(df.columns),5,\"CSV file must have 5 columns\")\n",
    "        \n",
    "            \n",
    "           \n",
    "            \n",
    "#             # Check that the first column only contains integer values\n",
    "#             for row in csv_reader:\n",
    "#                 try:\n",
    "#                     int(row[0])\n",
    "#                 except ValueError:\n",
    "#                     self.fail('First column must only contain integer values')\n",
    "                    \n",
    "#             # Check that the second column only contains float values\n",
    "#             csv_file.seek(0)\n",
    "#             next(csv_reader) # Skip header\n",
    "#             for row in csv_reader:\n",
    "#                 try:\n",
    "#                     float(row[1])\n",
    "#                 except ValueError:\n",
    "#                     self.fail('Second column must only contain float values')\n",
    "                    \n",
    "#             # Check that the third column only contains string values\n",
    "#             csv_file.seek(0)\n",
    "#             next(csv_reader) # Skip header\n",
    "#             for row in csv_reader:\n",
    "#                 if not isinstance(row[2], str):\n",
    "#                     self.fail('Third column must only contain string values')\n",
    "                    \n",
    "if __name__ == '__main__':\n",
    "    unittest.main()"
   ]
  },
  {
   "cell_type": "code",
   "execution_count": 4,
   "id": "0ec649d9",
   "metadata": {},
   "outputs": [
    {
     "name": "stderr",
     "output_type": "stream",
     "text": [
      "E\n",
      "======================================================================\n",
      "ERROR: /Users/joonghochoi/Library/Jupyter/runtime/kernel-a9f074f0-139c-483d-8a12-81fae4447577 (unittest.loader._FailedTest)\n",
      "----------------------------------------------------------------------\n",
      "AttributeError: module '__main__' has no attribute '/Users/joonghochoi/Library/Jupyter/runtime/kernel-a9f074f0-139c-483d-8a12-81fae4447577'\n",
      "\n",
      "----------------------------------------------------------------------\n",
      "Ran 1 test in 0.001s\n",
      "\n",
      "FAILED (errors=1)\n"
     ]
    },
    {
     "ename": "SystemExit",
     "evalue": "True",
     "output_type": "error",
     "traceback": [
      "An exception has occurred, use %tb to see the full traceback.\n",
      "\u001b[0;31mSystemExit\u001b[0m\u001b[0;31m:\u001b[0m True\n"
     ]
    },
    {
     "name": "stderr",
     "output_type": "stream",
     "text": [
      "/Users/joonghochoi/miniconda3/envs/sweAI/lib/python3.9/site-packages/IPython/core/interactiveshell.py:3405: UserWarning: To exit: use 'exit', 'quit', or Ctrl-D.\n",
      "  warn(\"To exit: use 'exit', 'quit', or Ctrl-D.\", stacklevel=1)\n"
     ]
    }
   ],
   "source": [
    "unittest.main()"
   ]
  },
  {
   "cell_type": "code",
   "execution_count": null,
   "id": "209c1f17",
   "metadata": {},
   "outputs": [],
   "source": []
  }
 ],
 "metadata": {
  "kernelspec": {
   "display_name": "sweAI",
   "language": "python",
   "name": "sweai"
  },
  "language_info": {
   "codemirror_mode": {
    "name": "ipython",
    "version": 3
   },
   "file_extension": ".py",
   "mimetype": "text/x-python",
   "name": "python",
   "nbconvert_exporter": "python",
   "pygments_lexer": "ipython3",
   "version": "3.9.6"
  }
 },
 "nbformat": 4,
 "nbformat_minor": 5
}
