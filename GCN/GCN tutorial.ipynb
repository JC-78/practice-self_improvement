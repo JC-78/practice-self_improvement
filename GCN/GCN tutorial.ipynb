{
 "cells": [
  {
   "cell_type": "code",
   "execution_count": 1,
   "id": "2315a5d1",
   "metadata": {},
   "outputs": [
    {
     "name": "stderr",
     "output_type": "stream",
     "text": [
      "/Users/joonghochoi/miniconda3/envs/sweAI/lib/python3.9/site-packages/tqdm/auto.py:22: TqdmWarning: IProgress not found. Please update jupyter and ipywidgets. See https://ipywidgets.readthedocs.io/en/stable/user_install.html\n",
      "  from .autonotebook import tqdm as notebook_tqdm\n"
     ]
    }
   ],
   "source": [
    "import torch\n",
    "import torch.nn.functional as F\n",
    "from torch_geometric.nn import GCNConv\n",
    "\n",
    "\"\"\"\n",
    "suppose you want to predict the likelihood that a particular user will purchase a product based on their \n",
    "past purchases and their interactions with other users in a social network. In this case, you could \n",
    "represent the social network as a graph, with users as nodes and interactions as edges, and use a GCN to make predictions.\n",
    "\n",
    "\"\"\"\n",
    "# define the GCN model\n",
    "class GCN(torch.nn.Module):\n",
    "    def __init__(self):\n",
    "        super(GCN, self).__init__()\n",
    "        self.conv1 = GCNConv(16, 16)\n",
    "        self.conv2 = GCNConv(16, 2)\n",
    "\n",
    "    def forward(self, x, edge_index):\n",
    "        x = F.relu(self.conv1(x, edge_index))\n",
    "        x = self.conv2(x, edge_index)\n",
    "        return F.log_softmax(x, dim=1)\n",
    "\n",
    "# create a sample graph\n",
    "x = torch.randn(4, 16)\n",
    "edge_index = torch.tensor([[0, 1, 1, 2], [1, 0, 2, 1]], dtype=torch.long)\n",
    "\n",
    "\"\"\"\n",
    "In the GCN example, x represents the input feature matrix of the graph. \n",
    "Each row of x represents the features of a single node in the graph, and the columns represent the \n",
    "different feature dimensions.\n",
    "\n",
    "For example, if you have a social network graph where each node represents a user, the feature matrix x \n",
    "could contain information about each user such as their age, gender, occupation, etc.\n",
    "In this case, the first row of edge_index represents the indices of the starting nodes of the edges, \n",
    "and the second row represents the indices of the ending nodes of the edges.\n",
    "\"\"\"\n",
    "# create a sample label vector\n",
    "y = torch.tensor([0, 1, 0, 1], dtype=torch.long)\n"
   ]
  },
  {
   "cell_type": "code",
   "execution_count": 2,
   "id": "f3d42b36",
   "metadata": {},
   "outputs": [
    {
     "data": {
      "text/plain": [
       "tensor([[ 1.5148e+00,  8.3878e-01,  2.1134e-01, -2.2476e+00,  7.2010e-01,\n",
       "          1.3814e+00,  9.6319e-01, -1.2995e-01, -1.3041e+00,  2.7482e-01,\n",
       "          1.2426e+00, -1.3262e+00,  1.6664e+00,  1.7723e+00,  8.8828e-01,\n",
       "         -1.6411e+00],\n",
       "        [ 3.6973e-01,  8.0648e-01, -5.4468e-01,  9.6007e-01,  1.1127e+00,\n",
       "          3.8415e-01,  1.2402e+00, -3.5073e-01,  1.3398e+00, -8.9889e-01,\n",
       "         -1.9971e+00, -1.6970e+00, -3.1169e-01,  2.3415e+00,  4.9778e-02,\n",
       "          1.6866e+00],\n",
       "        [ 1.1090e+00,  7.1571e-01, -4.5003e-01, -3.8010e-01,  7.4079e-01,\n",
       "         -2.0750e+00,  4.6207e-01, -2.1992e-01, -3.1712e+00,  1.2053e+00,\n",
       "         -4.7447e-01, -1.2831e+00,  1.2095e+00,  1.0795e-01,  2.1338e+00,\n",
       "          1.4114e+00],\n",
       "        [ 6.1188e-01, -5.3567e-01,  1.0024e-01, -5.3539e-01,  9.9342e-01,\n",
       "          2.2453e-01, -7.2179e-01,  9.2756e-01, -1.1926e-03,  1.7966e+00,\n",
       "          5.6617e-01, -1.3462e+00, -1.2057e+00,  1.1720e+00,  4.6209e-01,\n",
       "          9.4006e-02]])"
      ]
     },
     "execution_count": 2,
     "metadata": {},
     "output_type": "execute_result"
    }
   ],
   "source": [
    "x"
   ]
  },
  {
   "cell_type": "code",
   "execution_count": 3,
   "id": "bc663af2",
   "metadata": {},
   "outputs": [
    {
     "data": {
      "text/plain": [
       "tensor([[0, 1, 1, 2],\n",
       "        [1, 0, 2, 1]])"
      ]
     },
     "execution_count": 3,
     "metadata": {},
     "output_type": "execute_result"
    }
   ],
   "source": [
    "edge_index"
   ]
  },
  {
   "cell_type": "code",
   "execution_count": 6,
   "id": "8f4cf60f",
   "metadata": {},
   "outputs": [],
   "source": [
    "\n",
    "# initialize the GCN model\n",
    "model = GCN()\n",
    "\n",
    "# define the optimizer and loss function\n",
    "optimizer = torch.optim.Adam(model.parameters(), lr=0.01)\n",
    "criterion = torch.nn.NLLLoss() # negative log likelihood loss.\n",
    "\n",
    "# train the model\n",
    "for epoch in range(500):\n",
    "    model.train()\n",
    "    optimizer.zero_grad()\n",
    "    out = model(x, edge_index)\n",
    "    loss = criterion(out, y)\n",
    "    loss.backward()\n",
    "    optimizer.step()\n",
    "\n",
    "# test the model\n",
    "model.eval()\n",
    "out = model(x, edge_index)\n",
    "pred = out.max(dim=1)[1]"
   ]
  },
  {
   "cell_type": "code",
   "execution_count": 7,
   "id": "9783e38f",
   "metadata": {},
   "outputs": [
    {
     "data": {
      "text/plain": [
       "tensor([0, 1, 0, 1])"
      ]
     },
     "execution_count": 7,
     "metadata": {},
     "output_type": "execute_result"
    }
   ],
   "source": [
    "pred"
   ]
  },
  {
   "cell_type": "code",
   "execution_count": null,
   "id": "aff95fe0",
   "metadata": {},
   "outputs": [],
   "source": []
  }
 ],
 "metadata": {
  "kernelspec": {
   "display_name": "sweAI",
   "language": "python",
   "name": "sweai"
  },
  "language_info": {
   "codemirror_mode": {
    "name": "ipython",
    "version": 3
   },
   "file_extension": ".py",
   "mimetype": "text/x-python",
   "name": "python",
   "nbconvert_exporter": "python",
   "pygments_lexer": "ipython3",
   "version": "3.9.6"
  }
 },
 "nbformat": 4,
 "nbformat_minor": 5
}
